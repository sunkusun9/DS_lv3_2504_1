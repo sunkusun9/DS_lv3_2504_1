{
 "cells": [
  {
   "cell_type": "markdown",
   "id": "765c0422",
   "metadata": {},
   "source": [
    "# 문제 6\n",
    "\n",
    "[Kaggle 형] train_prob.csv로 failure 예측하는 모델을 만들고, \n",
    "\n",
    "test_prob.csv에 대한 failure가 1일 확률 예측하여 다음과 같은 형식의 answer6.csv를 만들어라. \n",
    "\n",
    "측정 지표는 AUC(area under of ROC curve)이다. id 는 테스트 케이스의 id 이고, failure에는 failure가 1이 될 확률이다.\n",
    "\n",
    "id,failure\n",
    "\n",
    "16115, 0.1\n",
    "\n",
    "16116, 0.2\n",
    "\n",
    "\n",
    "**강사: 멀티캠퍼스 강선구(sunku0316.kang@multicampus.com, sun9sun9@gmail.com)**"
   ]
  },
  {
   "cell_type": "code",
   "execution_count": 1,
   "id": "42ff1fa9",
   "metadata": {},
   "outputs": [
    {
     "name": "stdout",
     "output_type": "stream",
     "text": [
      "3.7.4 (tags/v3.7.4:e09359112e, Jul  8 2019, 20:34:20) [MSC v.1916 64 bit (AMD64)]\n",
      "pandas 0.25.1\n",
      "numpy 1.18.5\n",
      "sklearn 0.21.3\n",
      "scipy 1.5.2\n",
      "mlxtend 0.15.0.0\n",
      "statsmodels 0.11.1\n",
      "xgboost 0.80\n"
     ]
    }
   ],
   "source": [
    "# 실행 환경 확인\n",
    "\n",
    "import pandas as pd\n",
    "import numpy as np\n",
    "import sklearn\n",
    "import scipy\n",
    "import statsmodels\n",
    "import mlxtend\n",
    "import sys\n",
    "import xgboost as xgb\n",
    "\n",
    "print(sys.version)\n",
    "for i in [pd, np, sklearn, scipy, mlxtend, statsmodels, xgb]:\n",
    "    print(i.__name__, i.__version__)"
   ]
  },
  {
   "cell_type": "code",
   "execution_count": 3,
   "id": "b70879a4",
   "metadata": {},
   "outputs": [
    {
     "data": {
      "text/plain": [
       "((21458, 25), (5112, 24))"
      ]
     },
     "execution_count": 3,
     "metadata": {},
     "output_type": "execute_result"
    }
   ],
   "source": [
    "df_train = pd.read_csv('train_prob.csv', index_col = 'id')\n",
    "df_test = pd.read_csv('test_prob.csv', index_col = 'id')\n",
    "df_train.shape, df_test.shape"
   ]
  },
  {
   "cell_type": "code",
   "execution_count": 4,
   "id": "a49ccd2b",
   "metadata": {},
   "outputs": [],
   "source": [
    "df_train = df_train.assign(\n",
    "    na_1 = lambda x: x['measurement_3'].isna(),\n",
    "    na_2 = lambda x: x['measurement_5'].isna()\n",
    ")\n",
    "\n",
    "df_test = df_test.assign(\n",
    "    na_1 = lambda x: x['measurement_3'].isna(),\n",
    "    na_2 = lambda x: x['measurement_5'].isna()\n",
    ")"
   ]
  },
  {
   "cell_type": "code",
   "execution_count": 5,
   "id": "4a6d4c51",
   "metadata": {},
   "outputs": [
    {
     "data": {
      "text/plain": [
       "C    5765\n",
       "E    5343\n",
       "B    5250\n",
       "A    5100\n",
       "Name: product_code, dtype: int64"
      ]
     },
     "execution_count": 5,
     "metadata": {},
     "output_type": "execute_result"
    }
   ],
   "source": [
    "df_train['product_code'].value_counts()"
   ]
  },
  {
   "cell_type": "code",
   "execution_count": 6,
   "id": "48ef8436",
   "metadata": {},
   "outputs": [
    {
     "data": {
      "text/plain": [
       "D    5112\n",
       "Name: product_code, dtype: int64"
      ]
     },
     "execution_count": 6,
     "metadata": {},
     "output_type": "execute_result"
    }
   ],
   "source": [
    "df_test['product_code'].value_counts()"
   ]
  },
  {
   "cell_type": "code",
   "execution_count": 7,
   "id": "f67b5e3d",
   "metadata": {},
   "outputs": [],
   "source": [
    "from sklearn.experimental import enable_iterative_imputer\n",
    "from sklearn.impute import IterativeImputer\n",
    "from sklearn.linear_model import LinearRegression\n",
    "\n",
    "imp = IterativeImputer(\n",
    "    estimator =  LinearRegression(fit_intercept = True),\n",
    "    random_state = 123 \n",
    ")\n",
    "\n",
    "X_imp = ['measurement_{}'.format(i) for i in range(3, 10)] + ['measurement_17']\n",
    "df_train[X_imp] = df_train.groupby('product_code')[X_imp].apply(\n",
    "    lambda x: pd.DataFrame(imp.fit_transform(x), index = x.index, columns = X_imp)\n",
    ")\n",
    "\n",
    "imp = IterativeImputer(\n",
    "    estimator =  LinearRegression(fit_intercept = True),\n",
    "    random_state = 123 \n",
    ")\n",
    "\n",
    "X_imp = ['measurement_{}'.format(i) for i in range(3, 10)] + ['measurement_17']\n",
    "df_test[X_imp] = df_test.groupby('product_code')[X_imp].apply(\n",
    "    lambda x: pd.DataFrame(imp.fit_transform(x), index = x.index, columns = X_imp)\n",
    ")\n",
    "\n",
    "X_mean = ['measurement_{}'.format(i) for i in range(10, 17)]\n",
    "df_train[X_mean] = df_train.groupby('product_code')[X_mean].transform(lambda x: x.fillna(x.mean()))\n",
    "df_test[X_mean] = df_test.groupby('product_code')[X_mean].transform(lambda x: x.fillna(x.mean()))"
   ]
  },
  {
   "cell_type": "markdown",
   "id": "fa497c17",
   "metadata": {},
   "source": [
    "문제1: na_1 = isna_3, na_2 = isna_5, failure와 연관\n",
    "\n",
    "문제2; loading_log = loading -> log 변환 \n",
    "\n",
    "       attribute_0, attribute_1 버리자\n",
    "\n",
    "문제3: loading 평균 대체\n",
    "      LR: STD  \\['loading', 'measurement_1', 'measurement_4', 'measurement_14', 'measurement_17'\\] pt: \\[ 'na_1'\\]\n",
    "\n",
    "문제4: LDA predict, transform \n",
    "      \n",
    "      LR: STD ['measurement_0 ~ 17'] -> PCA(n_components = 7) best \n",
    "      \n",
    "문제5: RandomForest {'n_estimators': 15, 'max_depth': 7, 'min_samples_split': 512}"
   ]
  },
  {
   "cell_type": "code",
   "execution_count": 10,
   "id": "0e95f0ea",
   "metadata": {},
   "outputs": [],
   "source": [
    "m = pd.concat([\n",
    "    df_train['loading'], df_test['loading']\n",
    "]).mean()\n",
    "\n",
    "df_train['loading']  = df_train['loading'].fillna(m)\n",
    "df_test['loading']  = df_test['loading'].fillna(m)"
   ]
  },
  {
   "cell_type": "code",
   "execution_count": 11,
   "id": "d4ce924d",
   "metadata": {},
   "outputs": [],
   "source": [
    "df_train['loading_log']  = np.log(df_train['loading'])\n",
    "df_test['loading_log']  = np.log(df_test['loading'])"
   ]
  },
  {
   "cell_type": "code",
   "execution_count": 13,
   "id": "ae8963ef",
   "metadata": {},
   "outputs": [
    {
     "data": {
      "text/plain": [
       "array(['product_code', 'loading', 'attribute_0', 'attribute_1',\n",
       "       'attribute_2', 'attribute_3', 'measurement_0', 'measurement_1',\n",
       "       'measurement_2', 'measurement_3', 'measurement_4', 'measurement_5',\n",
       "       'measurement_6', 'measurement_7', 'measurement_8', 'measurement_9',\n",
       "       'measurement_10', 'measurement_11', 'measurement_12',\n",
       "       'measurement_13', 'measurement_14', 'measurement_15',\n",
       "       'measurement_16', 'measurement_17', 'na_1', 'na_2', 'loading_log'],\n",
       "      dtype='<U14')"
      ]
     },
     "execution_count": 13,
     "metadata": {},
     "output_type": "execute_result"
    }
   ],
   "source": [
    "X_all = df_test.columns.tolist()\n",
    "np.array(X_all)"
   ]
  },
  {
   "cell_type": "code",
   "execution_count": 16,
   "id": "5201c706",
   "metadata": {},
   "outputs": [
    {
     "name": "stdout",
     "output_type": "stream",
     "text": [
      "['A' 'B' 'E'] ['C']\n",
      "['A' 'B' 'C'] ['E']\n",
      "['A' 'C' 'E'] ['B']\n",
      "['B' 'C' 'E'] ['A']\n"
     ]
    }
   ],
   "source": [
    "from sklearn.model_selection import GroupKFold\n",
    "\n",
    "gkf = GroupKFold(4)\n",
    "for train_idx, valid_idx in gkf.split(df_train[X_all], df_train['failure'], groups = df_train['product_code']):\n",
    "    df_cv_train, df_valid = df_train.iloc[train_idx], df_train.iloc[valid_idx]\n",
    "    print(df_cv_train['product_code'].unique(), df_valid['product_code'].unique())"
   ]
  },
  {
   "cell_type": "code",
   "execution_count": 20,
   "id": "68caeb0f",
   "metadata": {},
   "outputs": [
    {
     "data": {
      "text/plain": [
       "({'fit_time': array([0.03437257, 0.04003263, 0.03701663, 0.03591514]),\n",
       "  'score_time': array([0.00503349, 0.        , 0.        , 0.0030365 ]),\n",
       "  'test_score': array([0.58821746, 0.58491734, 0.58894014, 0.59540058]),\n",
       "  'train_score': array([0.59262252, 0.59350804, 0.59192438, 0.58956303])},\n",
       " 0.5893688802407206,\n",
       " 0.5919044940604268)"
      ]
     },
     "execution_count": 20,
     "metadata": {},
     "output_type": "execute_result"
    }
   ],
   "source": [
    "# LR: STD ['loading', 'measurement_1', 'measurement_4', 'measurement_14', 'measurement_17'] pt: [ 'na_1']\n",
    "from sklearn.compose import ColumnTransformer\n",
    "from sklearn.pipeline import make_pipeline\n",
    "from sklearn.linear_model import LogisticRegression\n",
    "from sklearn.preprocessing import StandardScaler\n",
    "\n",
    "ct = ColumnTransformer([\n",
    "    ('std', StandardScaler(), ['loading', 'measurement_1', 'measurement_4', 'measurement_14', 'measurement_17']),\n",
    "    ('pt', 'passthrough', ['na_1'])\n",
    "])\n",
    "clf_lr = make_pipeline(\n",
    "    ct, LogisticRegression(solver = 'lbfgs')\n",
    ")\n",
    "from sklearn.model_selection import cross_validate\n",
    "\n",
    "scores = cross_validate(\n",
    "    clf_lr, df_train[X_all], df_train['failure'], groups = df_train['product_code'], scoring = 'roc_auc',\n",
    "    cv = gkf, return_train_score=True\n",
    ")\n",
    "scores, np.mean(scores['test_score']), np.mean(scores['train_score'])"
   ]
  }
 ],
 "metadata": {
  "kernelspec": {
   "display_name": "Python 3 (ipykernel)",
   "language": "python",
   "name": "python3"
  },
  "language_info": {
   "codemirror_mode": {
    "name": "ipython",
    "version": 3
   },
   "file_extension": ".py",
   "mimetype": "text/x-python",
   "name": "python",
   "nbconvert_exporter": "python",
   "pygments_lexer": "ipython3",
   "version": "3.7.4"
  }
 },
 "nbformat": 4,
 "nbformat_minor": 5
}
